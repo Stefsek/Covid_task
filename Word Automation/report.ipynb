{
 "cells": [
  {
   "cell_type": "code",
   "execution_count": 1,
   "id": "1b720819-ec39-4e6e-b855-f7b5f535ad6b",
   "metadata": {},
   "outputs": [],
   "source": [
    "#import libraries\n",
    "import pandas as pd\n",
    "pd.set_option('display.float_format', lambda x: '%.1f' % x)\n",
    "import matplotlib.pyplot as plt\n",
    "import numpy as np\n",
    "from docx import Document\n",
    "import os,sys"
   ]
  },
  {
   "cell_type": "code",
   "execution_count": 2,
   "id": "60e6450d-eed4-490f-9189-c31724c5760f",
   "metadata": {},
   "outputs": [],
   "source": [
    "#read the created df for this script\n",
    "cases_population=pd.read_csv('cases_population.csv')"
   ]
  },
  {
   "cell_type": "code",
   "execution_count": 3,
   "id": "1aa22309-d21a-4c35-beb2-6ca70f0d0b2c",
   "metadata": {},
   "outputs": [],
   "source": [
    "#list options\n",
    "options=list(cases_population['location'])"
   ]
  },
  {
   "cell_type": "code",
   "execution_count": 4,
   "id": "17e8e66d-0e62-4598-a34c-ed6b3ab6841a",
   "metadata": {},
   "outputs": [
    {
     "name": "stdout",
     "output_type": "stream",
     "text": [
      "List of availiable input options\n",
      "\n",
      "\n",
      "['Afghanistan', 'Albania', 'Algeria', 'Andorra', 'Angola', 'Anguilla', 'Antigua and Barbuda', 'Argentina', 'Armenia', 'Aruba', 'Australia', 'Austria', 'Azerbaijan', 'Bahamas', 'Bahrain', 'Bangladesh', 'Barbados', 'Belarus', 'Belgium', 'Belize', 'Benin', 'Bermuda', 'Bhutan', 'Bolivia', 'Bonaire Sint Eustatius and Saba', 'Bosnia and Herzegovina', 'Botswana', 'Brazil', 'British Virgin Islands', 'Brunei', 'Bulgaria', 'Burkina Faso', 'Burundi', 'Cambodia', 'Cameroon', 'Canada', 'Cape Verde', 'Cayman Islands', 'Central African Republic', 'Chad', 'Chile', 'China', 'Colombia', 'Comoros', 'Congo', 'Cook Islands', 'Costa Rica', \"Cote d'Ivoire\", 'Croatia', 'Cuba', 'Curacao', 'Cyprus', 'Czechia', 'Democratic Republic of Congo', 'Denmark', 'Djibouti', 'Dominica', 'Dominican Republic', 'Ecuador', 'Egypt', 'El Salvador', 'Equatorial Guinea', 'Eritrea', 'Estonia', 'Eswatini', 'Ethiopia', 'Faeroe Islands', 'Falkland Islands', 'Fiji', 'Finland', 'France', 'French Polynesia', 'Gabon', 'Gambia', 'Georgia', 'Germany', 'Ghana', 'Gibraltar', 'Greece', 'Greenland', 'Grenada', 'Guam', 'Guatemala', 'Guernsey', 'Guinea', 'Guinea-Bissau', 'Guyana', 'Haiti', 'Honduras', 'Hong Kong', 'Hungary', 'Iceland', 'India', 'Indonesia', 'Iran', 'Iraq', 'Ireland', 'Isle of Man', 'Israel', 'Italy', 'Jamaica', 'Japan', 'Jersey', 'Jordan', 'Kazakhstan', 'Kenya', 'Kiribati', 'Kosovo', 'Kuwait', 'Kyrgyzstan', 'Laos', 'Latvia', 'Lebanon', 'Lesotho', 'Liberia', 'Libya', 'Liechtenstein', 'Lithuania', 'Luxembourg', 'Macao', 'Madagascar', 'Malawi', 'Malaysia', 'Maldives', 'Mali', 'Malta', 'Marshall Islands', 'Mauritania', 'Mauritius', 'Mexico', 'Micronesia (country)', 'Moldova', 'Monaco', 'Mongolia', 'Montenegro', 'Montserrat', 'Morocco', 'Mozambique', 'Myanmar', 'Namibia', 'Nauru', 'Nepal', 'Netherlands', 'New Caledonia', 'New Zealand', 'Nicaragua', 'Niger', 'Nigeria', 'Niue', 'North Korea', 'North Macedonia', 'Northern Cyprus', 'Northern Mariana Islands', 'Norway', 'Oman', 'Pakistan', 'Palau', 'Palestine', 'Panama', 'Papua New Guinea', 'Paraguay', 'Peru', 'Philippines', 'Pitcairn', 'Poland', 'Portugal', 'Puerto Rico', 'Qatar', 'Romania', 'Russia', 'Rwanda', 'Saint Helena', 'Saint Kitts and Nevis', 'Saint Lucia', 'Saint Pierre and Miquelon', 'Saint Vincent and the Grenadines', 'Samoa', 'San Marino', 'Sao Tome and Principe', 'Saudi Arabia', 'Senegal', 'Serbia', 'Seychelles', 'Sierra Leone', 'Singapore', 'Sint Maarten (Dutch part)', 'Slovakia', 'Slovenia', 'Solomon Islands', 'Somalia', 'South Africa', 'South Korea', 'South Sudan', 'Spain', 'Sri Lanka', 'Sudan', 'Suriname', 'Sweden', 'Switzerland', 'Syria', 'Taiwan', 'Tajikistan', 'Tanzania', 'Thailand', 'Timor', 'Togo', 'Tokelau', 'Tonga', 'Trinidad and Tobago', 'Tunisia', 'Turkey', 'Turkmenistan', 'Turks and Caicos Islands', 'Tuvalu', 'Uganda', 'Ukraine', 'United Arab Emirates', 'United Kingdom', 'United States', 'United States Virgin Islands', 'Uruguay', 'Uzbekistan', 'Vanuatu', 'Vatican', 'Venezuela', 'Vietnam', 'Wallis and Futuna', 'Western Sahara', 'Yemen', 'Zambia', 'Zimbabwe']\n",
      "\n",
      "\n"
     ]
    },
    {
     "name": "stdin",
     "output_type": "stream",
     "text": [
      "Enter your country: Greece\n"
     ]
    },
    {
     "name": "stdout",
     "output_type": "stream",
     "text": [
      "\n",
      "\n",
      "Done! Your report is created in your folder named : Greece_report.docx\n"
     ]
    }
   ],
   "source": [
    "print ('List of availiable input options')\n",
    "print(\"\\n\")\n",
    "print(options)\n",
    "print(\"\\n\")\n",
    "#input\n",
    "country = input('Enter your country:')\n",
    "print(\"\\n\")\n",
    "print(\"Done! Your report is created in your folder named : {}_report.docx\".format(country))"
   ]
  },
  {
   "cell_type": "code",
   "execution_count": 5,
   "id": "fc8d36db-1b0d-4136-b639-f7817b8e5f81",
   "metadata": {},
   "outputs": [],
   "source": [
    "#filter selected country\n",
    "selection = cases_population.loc[cases_population['location'] == country]"
   ]
  },
  {
   "cell_type": "code",
   "execution_count": 7,
   "id": "b8050462-2448-4170-897d-fadbcb618546",
   "metadata": {},
   "outputs": [],
   "source": [
    "# Specify the values of blue bars (height)\n",
    "blue_bar = (selection['total_cases'])\n",
    "# Specify the values of orange bars (height)\n",
    "orange_bar = (selection['population'])\n",
    "#get the string of the country\n",
    "country=list(selection['location'])\n",
    "country=country[0]\n",
    "#get the string of the total_cases\n",
    "total_cases=list(selection['total_cases'])\n",
    "total_cases=total_cases[0]\n",
    "#get the string of the population\n",
    "population=list(selection['population'])\n",
    "population=population[0]"
   ]
  },
  {
   "cell_type": "code",
   "execution_count": 8,
   "id": "4a887fb4-8608-4f2f-8f76-1f1e2c5b4cab",
   "metadata": {},
   "outputs": [
    {
     "data": {
      "image/png": "[encoded data removed]",
      "text/plain": [
       "<Figure size 432x288 with 1 Axes>"
      ]
     },
     "metadata": {
      "needs_background": "light"
     },
     "output_type": "display_data"
    }
   ],
   "source": [
    "#matplotlib bar chart\n",
    "\n",
    "#figsize\n",
    "plt.figure(figsize=[6,4])\n",
    "#no of graphs\n",
    "N = 1\n",
    "# Width of a bar \n",
    "width = 0.3       \n",
    "ind = np.arange(N)\n",
    "# Plotting\n",
    "plt.bar(ind, blue_bar , width, label='Cases')\n",
    "plt.bar(ind + width, orange_bar, width, label='Population')\n",
    "plt.title('{} Cases/Population bar chart'.format(country))\n",
    "plt.legend(loc='best')\n",
    "#save graph\n",
    "plt.savefig('graph.png')"
   ]
  },
  {
   "cell_type": "code",
   "execution_count": 17,
   "id": "54f0bf1a-1c2c-402b-a2ee-112d75d4bf48",
   "metadata": {},
   "outputs": [],
   "source": [
    "#creating the word document\n",
    "\n",
    "\n",
    "document = Document()\n",
    "#add header\n",
    "document.add_heading('{} cases/population'.format(country), level=0)\n",
    "#add table\n",
    "table = document.add_table(rows=2, cols=3)\n",
    "#fill cells\n",
    "table.cell(0, 0).text='LOCATION'\n",
    "table.cell(0, 1).text='TOTAL CASES'\n",
    "table.cell(0, 2).text='POPULATION'\n",
    "table.cell(1, 0).text=str(country)\n",
    "table.cell(1, 1).text=str(total_cases)\n",
    "table.cell(1, 2).text=str(population)\n",
    "#add the saved graph\n",
    "document.add_picture('graph.png')\n",
    "#save the word document\n",
    "document.save('{}_report.docx'.format(country))"
   ]
  },
  {
   "cell_type": "code",
   "execution_count": 44,
   "id": "72dc64d9-2d91-4520-8876-93a419ff02aa",
   "metadata": {},
   "outputs": [],
   "source": [
    "#delete the saved graph\n",
    "\n",
    "folder_path = os.getcwd()\n",
    "test = os.listdir(folder_path)\n",
    "for images in test:\n",
    "    if images.endswith(\".png\"):\n",
    "        os.remove(os.path.join(folder_path, images))"
   ]
  },
  {
   "cell_type": "code",
   "execution_count": null,
   "id": "0e38ff60-cf7c-4d2a-922f-19aadb7bc2b9",
   "metadata": {},
   "outputs": [],
   "source": []
  }
 ],
 "metadata": {
  "kernelspec": {
   "display_name": "Python 3 (ipykernel)",
   "language": "python",
   "name": "python3"
  },
  "language_info": {
   "codemirror_mode": {
    "name": "ipython",
    "version": 3
   },
   "file_extension": ".py",
   "mimetype": "text/x-python",
   "name": "python",
   "nbconvert_exporter": "python",
   "pygments_lexer": "ipython3",
   "version": "3.8.13"
  }
 },
 "nbformat": 4,
 "nbformat_minor": 5
}
