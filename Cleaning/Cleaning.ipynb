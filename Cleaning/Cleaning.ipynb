{
 "cells": [
  {
   "cell_type": "code",
   "execution_count": 1,
   "id": "93e0033a-a748-4de0-b412-bcd7a57c4d9e",
   "metadata": {},
   "outputs": [],
   "source": [
    "#import libraries\n",
    "import pandas as pd\n",
    "pd.set_option(\"display.max_columns\", None)\n",
    "import calendar\n",
    "pd.set_option('display.float_format', lambda x: '%.1f' % x)"
   ]
  },
  {
   "cell_type": "code",
   "execution_count": 2,
   "id": "bb5c1eb0-2da0-4159-9555-1a39a1a50fdf",
   "metadata": {},
   "outputs": [],
   "source": [
    "#print csv\n",
    "df=pd.read_csv(\"owid-covid-data.csv\")"
   ]
  },
  {
   "cell_type": "code",
   "execution_count": 3,
   "id": "f839953e-58ee-45b4-876d-1c37d3c64f52",
   "metadata": {},
   "outputs": [
    {
     "data": {
      "text/plain": [
       "244"
      ]
     },
     "execution_count": 3,
     "metadata": {},
     "output_type": "execute_result"
    }
   ],
   "source": [
    "#number of unique location records\n",
    "df['location'].nunique()"
   ]
  },
  {
   "cell_type": "code",
   "execution_count": 4,
   "id": "7508db42-bc84-48f0-a14e-502ec1bc3a24",
   "metadata": {},
   "outputs": [
    {
     "data": {
      "text/plain": [
       "array(['Afghanistan', 'Africa', 'Albania', 'Algeria', 'Andorra', 'Angola',\n",
       "       'Anguilla', 'Antigua and Barbuda', 'Argentina', 'Armenia', 'Aruba',\n",
       "       'Asia', 'Australia', 'Austria', 'Azerbaijan', 'Bahamas', 'Bahrain',\n",
       "       'Bangladesh', 'Barbados', 'Belarus', 'Belgium', 'Belize', 'Benin',\n",
       "       'Bermuda', 'Bhutan', 'Bolivia', 'Bonaire Sint Eustatius and Saba',\n",
       "       'Bosnia and Herzegovina', 'Botswana', 'Brazil',\n",
       "       'British Virgin Islands', 'Brunei', 'Bulgaria', 'Burkina Faso',\n",
       "       'Burundi', 'Cambodia', 'Cameroon', 'Canada', 'Cape Verde',\n",
       "       'Cayman Islands', 'Central African Republic', 'Chad', 'Chile',\n",
       "       'China', 'Colombia', 'Comoros', 'Congo', 'Cook Islands',\n",
       "       'Costa Rica', \"Cote d'Ivoire\", 'Croatia', 'Cuba', 'Curacao',\n",
       "       'Cyprus', 'Czechia', 'Democratic Republic of Congo', 'Denmark',\n",
       "       'Djibouti', 'Dominica', 'Dominican Republic', 'Ecuador', 'Egypt',\n",
       "       'El Salvador', 'Equatorial Guinea', 'Eritrea', 'Estonia',\n",
       "       'Eswatini', 'Ethiopia', 'Europe', 'European Union',\n",
       "       'Faeroe Islands', 'Falkland Islands', 'Fiji', 'Finland', 'France',\n",
       "       'French Polynesia', 'Gabon', 'Gambia', 'Georgia', 'Germany',\n",
       "       'Ghana', 'Gibraltar', 'Greece', 'Greenland', 'Grenada', 'Guam',\n",
       "       'Guatemala', 'Guernsey', 'Guinea', 'Guinea-Bissau', 'Guyana',\n",
       "       'Haiti', 'High income', 'Honduras', 'Hong Kong', 'Hungary',\n",
       "       'Iceland', 'India', 'Indonesia', 'International', 'Iran', 'Iraq',\n",
       "       'Ireland', 'Isle of Man', 'Israel', 'Italy', 'Jamaica', 'Japan',\n",
       "       'Jersey', 'Jordan', 'Kazakhstan', 'Kenya', 'Kiribati', 'Kosovo',\n",
       "       'Kuwait', 'Kyrgyzstan', 'Laos', 'Latvia', 'Lebanon', 'Lesotho',\n",
       "       'Liberia', 'Libya', 'Liechtenstein', 'Lithuania', 'Low income',\n",
       "       'Lower middle income', 'Luxembourg', 'Macao', 'Madagascar',\n",
       "       'Malawi', 'Malaysia', 'Maldives', 'Mali', 'Malta',\n",
       "       'Marshall Islands', 'Mauritania', 'Mauritius', 'Mexico',\n",
       "       'Micronesia (country)', 'Moldova', 'Monaco', 'Mongolia',\n",
       "       'Montenegro', 'Montserrat', 'Morocco', 'Mozambique', 'Myanmar',\n",
       "       'Namibia', 'Nauru', 'Nepal', 'Netherlands', 'New Caledonia',\n",
       "       'New Zealand', 'Nicaragua', 'Niger', 'Nigeria', 'Niue',\n",
       "       'North America', 'North Korea', 'North Macedonia',\n",
       "       'Northern Cyprus', 'Northern Mariana Islands', 'Norway', 'Oceania',\n",
       "       'Oman', 'Pakistan', 'Palau', 'Palestine', 'Panama',\n",
       "       'Papua New Guinea', 'Paraguay', 'Peru', 'Philippines', 'Pitcairn',\n",
       "       'Poland', 'Portugal', 'Puerto Rico', 'Qatar', 'Romania', 'Russia',\n",
       "       'Rwanda', 'Saint Helena', 'Saint Kitts and Nevis', 'Saint Lucia',\n",
       "       'Saint Pierre and Miquelon', 'Saint Vincent and the Grenadines',\n",
       "       'Samoa', 'San Marino', 'Sao Tome and Principe', 'Saudi Arabia',\n",
       "       'Senegal', 'Serbia', 'Seychelles', 'Sierra Leone', 'Singapore',\n",
       "       'Sint Maarten (Dutch part)', 'Slovakia', 'Slovenia',\n",
       "       'Solomon Islands', 'Somalia', 'South Africa', 'South America',\n",
       "       'South Korea', 'South Sudan', 'Spain', 'Sri Lanka', 'Sudan',\n",
       "       'Suriname', 'Sweden', 'Switzerland', 'Syria', 'Taiwan',\n",
       "       'Tajikistan', 'Tanzania', 'Thailand', 'Timor', 'Togo', 'Tokelau',\n",
       "       'Tonga', 'Trinidad and Tobago', 'Tunisia', 'Turkey',\n",
       "       'Turkmenistan', 'Turks and Caicos Islands', 'Tuvalu', 'Uganda',\n",
       "       'Ukraine', 'United Arab Emirates', 'United Kingdom',\n",
       "       'United States', 'United States Virgin Islands',\n",
       "       'Upper middle income', 'Uruguay', 'Uzbekistan', 'Vanuatu',\n",
       "       'Vatican', 'Venezuela', 'Vietnam', 'Wallis and Futuna',\n",
       "       'Western Sahara', 'World', 'Yemen', 'Zambia', 'Zimbabwe'],\n",
       "      dtype=object)"
      ]
     },
     "execution_count": 4,
     "metadata": {},
     "output_type": "execute_result"
    }
   ],
   "source": [
    "#print unique location records\n",
    "df['location'].unique()"
   ]
  },
  {
   "cell_type": "code",
   "execution_count": 5,
   "id": "66d7c92f-3e7e-4f58-953b-7e109f413552",
   "metadata": {},
   "outputs": [
    {
     "data": {
      "text/plain": [
       "array(['Asia', nan, 'Europe', 'Africa', 'North America', 'South America',\n",
       "       'Oceania'], dtype=object)"
      ]
     },
     "execution_count": 5,
     "metadata": {},
     "output_type": "execute_result"
    }
   ],
   "source": [
    "#print unique continent records\n",
    "df['continent'].unique()"
   ]
  },
  {
   "cell_type": "code",
   "execution_count": 6,
   "id": "fe8217cf-782e-421b-8c06-4adf166c5d63",
   "metadata": {},
   "outputs": [],
   "source": [
    "#remove nan from continent\n",
    "df = df[df[\"continent\"].str.contains(\"nan\") == False]"
   ]
  },
  {
   "cell_type": "code",
   "execution_count": 7,
   "id": "d66bd1d8-c20b-4138-80da-2fbc6cc59c50",
   "metadata": {},
   "outputs": [
    {
     "data": {
      "text/plain": [
       "231"
      ]
     },
     "execution_count": 7,
     "metadata": {},
     "output_type": "execute_result"
    }
   ],
   "source": [
    "df['location'].nunique()"
   ]
  },
  {
   "cell_type": "code",
   "execution_count": 8,
   "id": "578afb0c-7674-43c7-a560-a958ec5114e5",
   "metadata": {},
   "outputs": [
    {
     "name": "stdout",
     "output_type": "stream",
     "text": [
      "<class 'pandas.core.frame.DataFrame'>\n",
      "Int64Index: 180022 entries, 0 to 191134\n",
      "Data columns (total 67 columns):\n",
      " #   Column                                      Non-Null Count   Dtype  \n",
      "---  ------                                      --------------   -----  \n",
      " 0   iso_code                                    180022 non-null  object \n",
      " 1   continent                                   180022 non-null  object \n",
      " 2   location                                    180022 non-null  object \n",
      " 3   date                                        180022 non-null  object \n",
      " 4   total_cases                                 172499 non-null  float64\n",
      " 5   new_cases                                   172293 non-null  float64\n",
      " 6   new_cases_smoothed                          171184 non-null  float64\n",
      " 7   total_deaths                                154245 non-null  float64\n",
      " 8   new_deaths                                  154053 non-null  float64\n",
      " 9   new_deaths_smoothed                         152955 non-null  float64\n",
      " 10  total_cases_per_million                     172499 non-null  float64\n",
      " 11  new_cases_per_million                       172293 non-null  float64\n",
      " 12  new_cases_smoothed_per_million              171184 non-null  float64\n",
      " 13  total_deaths_per_million                    154245 non-null  float64\n",
      " 14  new_deaths_per_million                      154053 non-null  float64\n",
      " 15  new_deaths_smoothed_per_million             152955 non-null  float64\n",
      " 16  reproduction_rate                           139862 non-null  float64\n",
      " 17  icu_patients                                25475 non-null   float64\n",
      " 18  icu_patients_per_million                    25475 non-null   float64\n",
      " 19  hosp_patients                               26729 non-null   float64\n",
      " 20  hosp_patients_per_million                   26729 non-null   float64\n",
      " 21  weekly_icu_admissions                       6209 non-null    float64\n",
      " 22  weekly_icu_admissions_per_million           6209 non-null    float64\n",
      " 23  weekly_hosp_admissions                      12379 non-null   float64\n",
      " 24  weekly_hosp_admissions_per_million          12379 non-null   float64\n",
      " 25  total_tests                                 77383 non-null   float64\n",
      " 26  new_tests                                   73768 non-null   float64\n",
      " 27  total_tests_per_thousand                    77383 non-null   float64\n",
      " 28  new_tests_per_thousand                      73768 non-null   float64\n",
      " 29  new_tests_smoothed                          100689 non-null  float64\n",
      " 30  new_tests_smoothed_per_thousand             100689 non-null  float64\n",
      " 31  positive_rate                               92852 non-null   float64\n",
      " 32  tests_per_case                              91122 non-null   float64\n",
      " 33  tests_units                                 103452 non-null  object \n",
      " 34  total_vaccinations                          46010 non-null   float64\n",
      " 35  people_vaccinated                           43539 non-null   float64\n",
      " 36  people_fully_vaccinated                     41181 non-null   float64\n",
      " 37  total_boosters                              19207 non-null   float64\n",
      " 38  new_vaccinations                            36618 non-null   float64\n",
      " 39  new_vaccinations_smoothed                   97151 non-null   float64\n",
      " 40  total_vaccinations_per_hundred              46010 non-null   float64\n",
      " 41  people_vaccinated_per_hundred               43539 non-null   float64\n",
      " 42  people_fully_vaccinated_per_hundred         41181 non-null   float64\n",
      " 43  total_boosters_per_hundred                  19207 non-null   float64\n",
      " 44  new_vaccinations_smoothed_per_million       97151 non-null   float64\n",
      " 45  new_people_vaccinated_smoothed              96091 non-null   float64\n",
      " 46  new_people_vaccinated_smoothed_per_hundred  96091 non-null   float64\n",
      " 47  stringency_index                            148585 non-null  float64\n",
      " 48  population                                  179705 non-null  float64\n",
      " 49  population_density                          169444 non-null  float64\n",
      " 50  median_age                                  156986 non-null  float64\n",
      " 51  aged_65_older                               155313 non-null  float64\n",
      " 52  aged_70_older                               156158 non-null  float64\n",
      " 53  gdp_per_capita                              156146 non-null  float64\n",
      " 54  extreme_poverty                             101637 non-null  float64\n",
      " 55  cardiovasc_death_rate                       156627 non-null  float64\n",
      " 56  diabetes_prevalence                         164326 non-null  float64\n",
      " 57  female_smokers                              118259 non-null  float64\n",
      " 58  male_smokers                                116626 non-null  float64\n",
      " 59  handwashing_facilities                      76519 non-null   float64\n",
      " 60  hospital_beds_per_thousand                  138880 non-null  float64\n",
      " 61  life_expectancy                             177873 non-null  float64\n",
      " 62  human_development_index                     152569 non-null  float64\n",
      " 63  excess_mortality_cumulative_absolute        6553 non-null    float64\n",
      " 64  excess_mortality_cumulative                 6553 non-null    float64\n",
      " 65  excess_mortality                            6553 non-null    float64\n",
      " 66  excess_mortality_cumulative_per_million     6553 non-null    float64\n",
      "dtypes: float64(62), object(5)\n",
      "memory usage: 93.4+ MB\n"
     ]
    }
   ],
   "source": [
    "#df info\n",
    "df.info()"
   ]
  },
  {
   "cell_type": "code",
   "execution_count": 9,
   "id": "76e6a832-6a11-4800-b890-04a5c7c46ecf",
   "metadata": {},
   "outputs": [],
   "source": [
    "#drop columns \n",
    "df = df[df.columns.drop(list(df.filter(regex='smoothed')))]\n",
    "df = df[df.columns.drop(list(df.filter(regex='per_million')))]\n",
    "df = df[df.columns.drop(list(df.filter(regex='mortality')))]\n",
    "df = df[df.columns.drop(list(df.filter(regex='per_hundred')))]\n",
    "df = df[df.columns.drop(list(df.filter(regex='tests')))]\n",
    "df = df[df.columns.drop(list(df.filter(regex='weekly')))]\n",
    "df.drop(['cardiovasc_death_rate','iso_code','diabetes_prevalence',\n",
    "         'gdp_per_capita','reproduction_rate','aged_70_older','extreme_poverty',\n",
    "        'aged_65_older','female_smokers','male_smokers'], axis=1,inplace=True)"
   ]
  },
  {
   "cell_type": "code",
   "execution_count": 10,
   "id": "cc52a01c-346f-4642-8908-d30644560d2a",
   "metadata": {},
   "outputs": [
    {
     "data": {
      "text/plain": [
       "Index(['continent', 'location', 'date', 'total_cases', 'new_cases',\n",
       "       'total_deaths', 'new_deaths', 'icu_patients', 'hosp_patients',\n",
       "       'positive_rate', 'total_vaccinations', 'people_vaccinated',\n",
       "       'people_fully_vaccinated', 'total_boosters', 'new_vaccinations',\n",
       "       'stringency_index', 'population', 'population_density', 'median_age',\n",
       "       'handwashing_facilities', 'hospital_beds_per_thousand',\n",
       "       'life_expectancy', 'human_development_index'],\n",
       "      dtype='object')"
      ]
     },
     "execution_count": 10,
     "metadata": {},
     "output_type": "execute_result"
    }
   ],
   "source": [
    "df.columns"
   ]
  },
  {
   "cell_type": "code",
   "execution_count": 11,
   "id": "7bd05c1d-0ba9-40f6-a253-3674cbc38670",
   "metadata": {},
   "outputs": [],
   "source": [
    "#to datetime\n",
    "df['date'] =  pd.to_datetime(df['date'])"
   ]
  },
  {
   "cell_type": "code",
   "execution_count": 12,
   "id": "44f77459-57fc-475a-91a5-b589e1b0342e",
   "metadata": {},
   "outputs": [
    {
     "data": {
      "text/plain": [
       "0        2020-02-24\n",
       "1        2020-02-25\n",
       "2        2020-02-26\n",
       "3        2020-02-27\n",
       "4        2020-02-28\n",
       "            ...    \n",
       "191130   2022-05-29\n",
       "191131   2022-05-30\n",
       "191132   2022-05-31\n",
       "191133   2022-06-01\n",
       "191134   2022-06-02\n",
       "Name: date, Length: 180022, dtype: datetime64[ns]"
      ]
     },
     "execution_count": 12,
     "metadata": {},
     "output_type": "execute_result"
    }
   ],
   "source": [
    "df['date']"
   ]
  },
  {
   "cell_type": "code",
   "execution_count": 13,
   "id": "f34d6a80-3551-41c2-a94d-bf9bb0f91523",
   "metadata": {},
   "outputs": [],
   "source": [
    "#split the date to day year month\n",
    "df['day'] = df['date'].dt.day\n",
    "df['month_num'] = df['date'].dt.month\n",
    "df['year'] = df['date'].dt.year"
   ]
  },
  {
   "cell_type": "code",
   "execution_count": 14,
   "id": "885e0972-a643-4953-bd50-7fade1ce5de9",
   "metadata": {},
   "outputs": [
    {
     "data": {
      "text/html": [
       "<div>\n",
       "<style scoped>\n",
       "    .dataframe tbody tr th:only-of-type {\n",
       "        vertical-align: middle;\n",
       "    }\n",
       "\n",
       "    .dataframe tbody tr th {\n",
       "        vertical-align: top;\n",
       "    }\n",
       "\n",
       "    .dataframe thead th {\n",
       "        text-align: right;\n",
       "    }\n",
       "</style>\n",
       "<table border=\"1\" class=\"dataframe\">\n",
       "  <thead>\n",
       "    <tr style=\"text-align: right;\">\n",
       "      <th></th>\n",
       "      <th>day</th>\n",
       "      <th>month_num</th>\n",
       "      <th>year</th>\n",
       "    </tr>\n",
       "  </thead>\n",
       "  <tbody>\n",
       "    <tr>\n",
       "      <th>0</th>\n",
       "      <td>24</td>\n",
       "      <td>2</td>\n",
       "      <td>2020</td>\n",
       "    </tr>\n",
       "    <tr>\n",
       "      <th>1</th>\n",
       "      <td>25</td>\n",
       "      <td>2</td>\n",
       "      <td>2020</td>\n",
       "    </tr>\n",
       "    <tr>\n",
       "      <th>2</th>\n",
       "      <td>26</td>\n",
       "      <td>2</td>\n",
       "      <td>2020</td>\n",
       "    </tr>\n",
       "    <tr>\n",
       "      <th>3</th>\n",
       "      <td>27</td>\n",
       "      <td>2</td>\n",
       "      <td>2020</td>\n",
       "    </tr>\n",
       "    <tr>\n",
       "      <th>4</th>\n",
       "      <td>28</td>\n",
       "      <td>2</td>\n",
       "      <td>2020</td>\n",
       "    </tr>\n",
       "    <tr>\n",
       "      <th>...</th>\n",
       "      <td>...</td>\n",
       "      <td>...</td>\n",
       "      <td>...</td>\n",
       "    </tr>\n",
       "    <tr>\n",
       "      <th>191130</th>\n",
       "      <td>29</td>\n",
       "      <td>5</td>\n",
       "      <td>2022</td>\n",
       "    </tr>\n",
       "    <tr>\n",
       "      <th>191131</th>\n",
       "      <td>30</td>\n",
       "      <td>5</td>\n",
       "      <td>2022</td>\n",
       "    </tr>\n",
       "    <tr>\n",
       "      <th>191132</th>\n",
       "      <td>31</td>\n",
       "      <td>5</td>\n",
       "      <td>2022</td>\n",
       "    </tr>\n",
       "    <tr>\n",
       "      <th>191133</th>\n",
       "      <td>1</td>\n",
       "      <td>6</td>\n",
       "      <td>2022</td>\n",
       "    </tr>\n",
       "    <tr>\n",
       "      <th>191134</th>\n",
       "      <td>2</td>\n",
       "      <td>6</td>\n",
       "      <td>2022</td>\n",
       "    </tr>\n",
       "  </tbody>\n",
       "</table>\n",
       "<p>180022 rows × 3 columns</p>\n",
       "</div>"
      ],
      "text/plain": [
       "        day  month_num  year\n",
       "0        24          2  2020\n",
       "1        25          2  2020\n",
       "2        26          2  2020\n",
       "3        27          2  2020\n",
       "4        28          2  2020\n",
       "...     ...        ...   ...\n",
       "191130   29          5  2022\n",
       "191131   30          5  2022\n",
       "191132   31          5  2022\n",
       "191133    1          6  2022\n",
       "191134    2          6  2022\n",
       "\n",
       "[180022 rows x 3 columns]"
      ]
     },
     "execution_count": 14,
     "metadata": {},
     "output_type": "execute_result"
    }
   ],
   "source": [
    "#print those columns\n",
    "df[[\"day\", \"month_num\",\"year\"]]"
   ]
  },
  {
   "cell_type": "code",
   "execution_count": 15,
   "id": "02df3192-c58b-47b1-bd70-2e6ebc005106",
   "metadata": {},
   "outputs": [],
   "source": [
    "#getting month names \n",
    "df['month_name'] = df['month_num'].apply(lambda x: calendar.month_abbr[x])"
   ]
  },
  {
   "cell_type": "code",
   "execution_count": 16,
   "id": "d65212ff-f12a-43ec-8c82-db3b98ad9cf9",
   "metadata": {},
   "outputs": [
    {
     "data": {
      "text/plain": [
       "0         Feb\n",
       "1         Feb\n",
       "2         Feb\n",
       "3         Feb\n",
       "4         Feb\n",
       "         ... \n",
       "191130    May\n",
       "191131    May\n",
       "191132    May\n",
       "191133    Jun\n",
       "191134    Jun\n",
       "Name: month_name, Length: 180022, dtype: object"
      ]
     },
     "execution_count": 16,
     "metadata": {},
     "output_type": "execute_result"
    }
   ],
   "source": [
    "df['month_name']"
   ]
  },
  {
   "cell_type": "code",
   "execution_count": 17,
   "id": "4b5ce066-5f48-4a88-9627-8ca8216e4d5d",
   "metadata": {},
   "outputs": [],
   "source": [
    "#save csv\n",
    "df.to_csv('df_cleaned.csv')"
   ]
  },
  {
   "cell_type": "code",
   "execution_count": 18,
   "id": "2cb18ba3-b724-4113-8aff-a0e053abdbbd",
   "metadata": {},
   "outputs": [],
   "source": [
    "#cases population df for report script\n",
    "test = df.groupby('location')['new_cases'].sum()\n",
    "test=pd.DataFrame(test)\n",
    "test.reset_index(inplace=True)\n",
    "test.rename(columns = {'new_cases':'total_cases'}, inplace = True)\n",
    "test2=df.groupby('location')['population'].max()\n",
    "test2=pd.DataFrame(test2)\n",
    "test2.reset_index(inplace=True)\n",
    "cases_population=pd.merge(test ,test2, on='location')\n",
    "cases_population.to_csv('cases_population.csv')"
   ]
  }
 ],
 "metadata": {
  "kernelspec": {
   "display_name": "Python 3 (ipykernel)",
   "language": "python",
   "name": "python3"
  },
  "language_info": {
   "codemirror_mode": {
    "name": "ipython",
    "version": 3
   },
   "file_extension": ".py",
   "mimetype": "text/x-python",
   "name": "python",
   "nbconvert_exporter": "python",
   "pygments_lexer": "ipython3",
   "version": "3.8.13"
  }
 },
 "nbformat": 4,
 "nbformat_minor": 5
}
